{
 "cells": [
  {
   "cell_type": "markdown",
   "id": "513960e0",
   "metadata": {
    "pycharm": {
     "name": "#%% md\n"
    }
   },
   "source": [
    "# Сбор и разметка данных\n",
    "\n",
    "## Урок 9. Инструменты разметки наборов данных\n"
   ],
   "outputs": []
  },
  {
   "cell_type": "code",
   "execution_count": 1,
   "outputs": [
    {
     "name": "stderr",
     "output_type": "stream",
     "text": [
      "[nltk_data] Downloading package punkt to\n",
      "[nltk_data]     C:\\Users\\Nusha\\AppData\\Roaming\\nltk_data...\n",
      "[nltk_data]   Package punkt is already up-to-date!\n"
     ]
    }
   ],
   "source": [
    "import os\n",
    "import wget\n",
    "\n",
    "import pandas as pd\n",
    "\n",
    "from sklearn.model_selection import train_test_split\n",
    "\n",
    "import nltk\n",
    "# Загружаем предобученную модель токенизации текста\n",
    "nltk.download('punkt')\n",
    "\n",
    "from sklearn.utils import shuffle\n",
    "from sklearn.preprocessing import LabelEncoder\n",
    "from sklearn.feature_extraction.text import TfidfVectorizer\n",
    "from sklearn.linear_model import LogisticRegression\n",
    "import numpy as np\n",
    "from sklearn.metrics import f1_score\n",
    "\n",
    "import warnings\n",
    "warnings.filterwarnings(\"ignore\")"
   ],
   "metadata": {
    "collapsed": false,
    "pycharm": {
     "name": "#%%\n"
    }
   }
  },
  {
   "cell_type": "markdown",
   "source": [
    "### Практическое задание\n",
    "\n",
    "**Задание 1.**\n",
    "Выберите датасет, который имеет отношение к вашей области интересов или исследований. Датасет должен содержать неструктурированные данные, требующие разметки для решения конкретной задачи, например, анализа настроений или распознавания именованных сущностей.\n",
    "\n",
    "Возьмем датасет новостей lenta.ru"
   ],
   "metadata": {
    "collapsed": false,
    "pycharm": {
     "name": "#%% md\n"
    }
   }
  },
  {
   "cell_type": "code",
   "execution_count": 2,
   "outputs": [
    {
     "data": {
      "text/plain": "                                           url  \\\n0   https://lenta.ru/news/1914/09/16/hungarnn/   \n1  https://lenta.ru/news/1914/09/16/lermontov/   \n2  https://lenta.ru/news/1914/09/17/nesteroff/   \n3   https://lenta.ru/news/1914/09/17/bulldogn/   \n4       https://lenta.ru/news/1914/09/18/zver/   \n\n                                               title  \\\n0  1914. Русские войска вступили в пределы Венгрии     \n1  1914. Празднование столетия М.Ю. Лермонтова от...   \n2                           1914. Das ist Nesteroff!   \n3                    1914. Бульдог-гонец под Льежем    \n4           1914. Под Люблином пойман швабский зверь   \n\n                                                text       topic  \\\n0  Бои у Сопоцкина и Друскеник закончились отступ...  Библиотека   \n1  Министерство народного просвещения, в виду про...  Библиотека   \n2  Штабс-капитан П. Н. Нестеров на днях, увидев в...  Библиотека   \n3  Фотограф-корреспондент Daily Mirror рассказыва...  Библиотека   \n4  Лица, приехавшие в Варшаву из Люблина, передаю...  Библиотека   \n\n             tags  \n0  Первая мировая  \n1  Первая мировая  \n2  Первая мировая  \n3  Первая мировая  \n4  Первая мировая  ",
      "text/html": "<div>\n<style scoped>\n    .dataframe tbody tr th:only-of-type {\n        vertical-align: middle;\n    }\n\n    .dataframe tbody tr th {\n        vertical-align: top;\n    }\n\n    .dataframe thead th {\n        text-align: right;\n    }\n</style>\n<table border=\"1\" class=\"dataframe\">\n  <thead>\n    <tr style=\"text-align: right;\">\n      <th></th>\n      <th>url</th>\n      <th>title</th>\n      <th>text</th>\n      <th>topic</th>\n      <th>tags</th>\n    </tr>\n  </thead>\n  <tbody>\n    <tr>\n      <th>0</th>\n      <td>https://lenta.ru/news/1914/09/16/hungarnn/</td>\n      <td>1914. Русские войска вступили в пределы Венгрии</td>\n      <td>Бои у Сопоцкина и Друскеник закончились отступ...</td>\n      <td>Библиотека</td>\n      <td>Первая мировая</td>\n    </tr>\n    <tr>\n      <th>1</th>\n      <td>https://lenta.ru/news/1914/09/16/lermontov/</td>\n      <td>1914. Празднование столетия М.Ю. Лермонтова от...</td>\n      <td>Министерство народного просвещения, в виду про...</td>\n      <td>Библиотека</td>\n      <td>Первая мировая</td>\n    </tr>\n    <tr>\n      <th>2</th>\n      <td>https://lenta.ru/news/1914/09/17/nesteroff/</td>\n      <td>1914. Das ist Nesteroff!</td>\n      <td>Штабс-капитан П. Н. Нестеров на днях, увидев в...</td>\n      <td>Библиотека</td>\n      <td>Первая мировая</td>\n    </tr>\n    <tr>\n      <th>3</th>\n      <td>https://lenta.ru/news/1914/09/17/bulldogn/</td>\n      <td>1914. Бульдог-гонец под Льежем</td>\n      <td>Фотограф-корреспондент Daily Mirror рассказыва...</td>\n      <td>Библиотека</td>\n      <td>Первая мировая</td>\n    </tr>\n    <tr>\n      <th>4</th>\n      <td>https://lenta.ru/news/1914/09/18/zver/</td>\n      <td>1914. Под Люблином пойман швабский зверь</td>\n      <td>Лица, приехавшие в Варшаву из Люблина, передаю...</td>\n      <td>Библиотека</td>\n      <td>Первая мировая</td>\n    </tr>\n  </tbody>\n</table>\n</div>"
     },
     "execution_count": 2,
     "metadata": {},
     "output_type": "execute_result"
    }
   ],
   "source": [
    "df = pd.read_csv('./news_lenta_ru.csv', engine='python', on_bad_lines='skip')\n",
    "df.head()"
   ],
   "metadata": {
    "collapsed": false,
    "pycharm": {
     "name": "#%%\n"
    }
   }
  },
  {
   "cell_type": "markdown",
   "source": [
    "**Задание 2.**\n",
    "Выполните разметку на основе правил (rule-based labeling) на подмножестве выбранного датасета. Разработайте и реализуйте набор правил или условий, которые позволят автоматически присваивать метки данным на основе определенных шаблонов или критериев.\n",
    "\n",
    "Загрузим тональный словарь."
   ],
   "metadata": {
    "collapsed": false,
    "pycharm": {
     "name": "#%% md\n"
    }
   },
   "outputs": []
  },
  {
   "cell_type": "code",
   "execution_count": 3,
   "outputs": [],
   "source": [
    "url = 'https://raw.githubusercontent.com/dkulagin/kartaslov/master/dataset/kartaslovsent/kartaslovsent.csv'\n",
    "file = 'kartaslovsent.csv'\n",
    "if not os.path.isfile(\"./kartaslovsent.csv\"):\n",
    "    wget.download(url, out=f\"./{file}\")"
   ],
   "metadata": {
    "collapsed": false,
    "pycharm": {
     "name": "#%%\n"
    }
   }
  },
  {
   "cell_type": "code",
   "execution_count": 4,
   "outputs": [
    {
     "data": {
      "text/plain": "           term   tag  value   pstv   ngtv   neut  dunno  \\\n0        абажур  NEUT   0.08  0.185  0.037  0.580  0.198   \n1     аббатство  NEUT   0.10  0.192  0.038  0.578  0.192   \n2  аббревиатура  NEUT   0.08  0.196  0.000  0.630  0.174   \n3         абзац  NEUT   0.00  0.137  0.000  0.706  0.157   \n4     абиссинец  NEUT   0.28  0.151  0.113  0.245  0.491   \n\n   pstvNgtvDisagreementRatio  \n0                       0.00  \n1                       0.00  \n2                       0.00  \n3                       0.00  \n4                       0.19  ",
      "text/html": "<div>\n<style scoped>\n    .dataframe tbody tr th:only-of-type {\n        vertical-align: middle;\n    }\n\n    .dataframe tbody tr th {\n        vertical-align: top;\n    }\n\n    .dataframe thead th {\n        text-align: right;\n    }\n</style>\n<table border=\"1\" class=\"dataframe\">\n  <thead>\n    <tr style=\"text-align: right;\">\n      <th></th>\n      <th>term</th>\n      <th>tag</th>\n      <th>value</th>\n      <th>pstv</th>\n      <th>ngtv</th>\n      <th>neut</th>\n      <th>dunno</th>\n      <th>pstvNgtvDisagreementRatio</th>\n    </tr>\n  </thead>\n  <tbody>\n    <tr>\n      <th>0</th>\n      <td>абажур</td>\n      <td>NEUT</td>\n      <td>0.08</td>\n      <td>0.185</td>\n      <td>0.037</td>\n      <td>0.580</td>\n      <td>0.198</td>\n      <td>0.00</td>\n    </tr>\n    <tr>\n      <th>1</th>\n      <td>аббатство</td>\n      <td>NEUT</td>\n      <td>0.10</td>\n      <td>0.192</td>\n      <td>0.038</td>\n      <td>0.578</td>\n      <td>0.192</td>\n      <td>0.00</td>\n    </tr>\n    <tr>\n      <th>2</th>\n      <td>аббревиатура</td>\n      <td>NEUT</td>\n      <td>0.08</td>\n      <td>0.196</td>\n      <td>0.000</td>\n      <td>0.630</td>\n      <td>0.174</td>\n      <td>0.00</td>\n    </tr>\n    <tr>\n      <th>3</th>\n      <td>абзац</td>\n      <td>NEUT</td>\n      <td>0.00</td>\n      <td>0.137</td>\n      <td>0.000</td>\n      <td>0.706</td>\n      <td>0.157</td>\n      <td>0.00</td>\n    </tr>\n    <tr>\n      <th>4</th>\n      <td>абиссинец</td>\n      <td>NEUT</td>\n      <td>0.28</td>\n      <td>0.151</td>\n      <td>0.113</td>\n      <td>0.245</td>\n      <td>0.491</td>\n      <td>0.19</td>\n    </tr>\n  </tbody>\n</table>\n</div>"
     },
     "execution_count": 4,
     "metadata": {},
     "output_type": "execute_result"
    }
   ],
   "source": [
    "df_tone_dic = pd.read_csv('./kartaslovsent.csv', sep=';', on_bad_lines='skip')\n",
    "df_tone_dic.head()"
   ],
   "metadata": {
    "collapsed": false,
    "pycharm": {
     "name": "#%%\n"
    }
   }
  },
  {
   "cell_type": "markdown",
   "source": [
    "Перемешаем и разделим датафрейм на две части (1-разметка вручную, 2-разметка на основе правил)."
   ],
   "metadata": {
    "collapsed": false,
    "pycharm": {
     "name": "#%% md\n"
    }
   }
  },
  {
   "cell_type": "code",
   "execution_count": 5,
   "outputs": [],
   "source": [
    "title1, title2 = train_test_split(df['title'], train_size=5, random_state=42)"
   ],
   "metadata": {
    "collapsed": false,
    "pycharm": {
     "name": "#%%\n"
    }
   }
  },
  {
   "cell_type": "code",
   "execution_count": 6,
   "outputs": [],
   "source": [
    "df_title1 = pd.DataFrame(title1)"
   ],
   "metadata": {
    "collapsed": false,
    "pycharm": {
     "name": "#%%\n"
    }
   }
  },
  {
   "cell_type": "code",
   "execution_count": 7,
   "outputs": [
    {
     "data": {
      "text/plain": "                                                  title\n5734  Ястржембский называет имя арестованного за взр...\n5191           Чемпионат Италии: \"Ювентус\" ушел в отрыв\n5390  Из Чернокозово отпущены первые амнистированные...\n860   Парламент Украины затребовал у Конгресса США п...\n7270            Пилот Формулы-1 уцелел в авиакатастрофе",
      "text/html": "<div>\n<style scoped>\n    .dataframe tbody tr th:only-of-type {\n        vertical-align: middle;\n    }\n\n    .dataframe tbody tr th {\n        vertical-align: top;\n    }\n\n    .dataframe thead th {\n        text-align: right;\n    }\n</style>\n<table border=\"1\" class=\"dataframe\">\n  <thead>\n    <tr style=\"text-align: right;\">\n      <th></th>\n      <th>title</th>\n    </tr>\n  </thead>\n  <tbody>\n    <tr>\n      <th>5734</th>\n      <td>Ястржембский называет имя арестованного за взр...</td>\n    </tr>\n    <tr>\n      <th>5191</th>\n      <td>Чемпионат Италии: \"Ювентус\" ушел в отрыв</td>\n    </tr>\n    <tr>\n      <th>5390</th>\n      <td>Из Чернокозово отпущены первые амнистированные...</td>\n    </tr>\n    <tr>\n      <th>860</th>\n      <td>Парламент Украины затребовал у Конгресса США п...</td>\n    </tr>\n    <tr>\n      <th>7270</th>\n      <td>Пилот Формулы-1 уцелел в авиакатастрофе</td>\n    </tr>\n  </tbody>\n</table>\n</div>"
     },
     "execution_count": 7,
     "metadata": {},
     "output_type": "execute_result"
    }
   ],
   "source": [
    "df_title1.head()"
   ],
   "metadata": {
    "collapsed": false,
    "pycharm": {
     "name": "#%%\n"
    }
   }
  },
  {
   "cell_type": "code",
   "execution_count": 8,
   "outputs": [],
   "source": [
    "df_title2 = pd.DataFrame(title2)"
   ],
   "metadata": {
    "collapsed": false,
    "pycharm": {
     "name": "#%%\n"
    }
   }
  },
  {
   "cell_type": "code",
   "execution_count": 9,
   "outputs": [
    {
     "data": {
      "text/plain": "                                                  title\n6252  Чтобы не платить налог, интернет-изданиям нужн...\n4684              Кубинского дипломата выставили из США\n1731  Правительство РФ: третье тысячеление наступит ...\n4742             Взрывчатку в Сибирь отправили по почте\n4521  В Дагестане совершено покушение на генерала по...",
      "text/html": "<div>\n<style scoped>\n    .dataframe tbody tr th:only-of-type {\n        vertical-align: middle;\n    }\n\n    .dataframe tbody tr th {\n        vertical-align: top;\n    }\n\n    .dataframe thead th {\n        text-align: right;\n    }\n</style>\n<table border=\"1\" class=\"dataframe\">\n  <thead>\n    <tr style=\"text-align: right;\">\n      <th></th>\n      <th>title</th>\n    </tr>\n  </thead>\n  <tbody>\n    <tr>\n      <th>6252</th>\n      <td>Чтобы не платить налог, интернет-изданиям нужн...</td>\n    </tr>\n    <tr>\n      <th>4684</th>\n      <td>Кубинского дипломата выставили из США</td>\n    </tr>\n    <tr>\n      <th>1731</th>\n      <td>Правительство РФ: третье тысячеление наступит ...</td>\n    </tr>\n    <tr>\n      <th>4742</th>\n      <td>Взрывчатку в Сибирь отправили по почте</td>\n    </tr>\n    <tr>\n      <th>4521</th>\n      <td>В Дагестане совершено покушение на генерала по...</td>\n    </tr>\n  </tbody>\n</table>\n</div>"
     },
     "execution_count": 9,
     "metadata": {},
     "output_type": "execute_result"
    }
   ],
   "source": [
    "df_title2.head()"
   ],
   "metadata": {
    "collapsed": false,
    "pycharm": {
     "name": "#%%\n"
    }
   }
  },
  {
   "cell_type": "code",
   "execution_count": 10,
   "outputs": [],
   "source": [
    "# Функция для присвоения метки настроения на основе наличия положительных или отрицательных слов\n",
    "def get_sentiment(text, df_td=df_tone_dic):\n",
    "    # Токенизация текста на отдельные слова\n",
    "    words = nltk.word_tokenize(text.lower())\n",
    "    sum_value = 0  # Сумма всех зачений весов найденных слов\n",
    "\n",
    "    for word in words:\n",
    "        if len(df_td[df_td.term == word]):\n",
    "            df_filtered = df_td[df_td['term'] == word]\n",
    "            value = df_filtered['value'].iloc[0]\n",
    "            sum_value += value\n",
    "\n",
    "    return sum_value"
   ],
   "metadata": {
    "collapsed": false,
    "pycharm": {
     "name": "#%%\n"
    }
   }
  },
  {
   "cell_type": "code",
   "execution_count": 11,
   "outputs": [],
   "source": [
    "# Функция для присвоения метки настроения на основе оценки полярности настроения\n",
    "def get_sentiment_label(score):\n",
    "    if score < -0.35:\n",
    "        return 'negative'\n",
    "    elif score >= 0.55:\n",
    "        return 'positive'\n",
    "    else:\n",
    "        return 'neutral'"
   ],
   "metadata": {
    "collapsed": false,
    "pycharm": {
     "name": "#%%\n"
    }
   }
  },
  {
   "cell_type": "code",
   "execution_count": 12,
   "outputs": [
    {
     "name": "stdout",
     "output_type": "stream",
     "text": [
      "1.33\n",
      "-0.68\n",
      "0\n"
     ]
    }
   ],
   "source": [
    "print(get_sentiment('Как хорошо, что я успел вовремя'))\n",
    "print(get_sentiment('Удар молнии'))\n",
    "print(get_sentiment('Всё нормально'))"
   ],
   "metadata": {
    "collapsed": false,
    "pycharm": {
     "name": "#%%\n"
    }
   }
  },
  {
   "cell_type": "code",
   "execution_count": 13,
   "outputs": [
    {
     "name": "stdout",
     "output_type": "stream",
     "text": [
      "positive\n",
      "negative\n",
      "neutral\n"
     ]
    }
   ],
   "source": [
    "print(get_sentiment_label(get_sentiment('Как хорошо, что я успел вовремя')))\n",
    "print(get_sentiment_label(get_sentiment('Удар молнии')))\n",
    "print(get_sentiment_label(get_sentiment('Всё нормально')))"
   ],
   "metadata": {
    "collapsed": false,
    "pycharm": {
     "name": "#%%\n"
    }
   }
  },
  {
   "cell_type": "markdown",
   "source": [
    "Присвоим метки настроения на основе правил."
   ],
   "metadata": {
    "collapsed": false,
    "pycharm": {
     "name": "#%% md\n"
    }
   }
  },
  {
   "cell_type": "code",
   "execution_count": 14,
   "outputs": [],
   "source": [
    "df_title2['sentiment'] = df_title2['title'].apply(get_sentiment)\n",
    "df_title2['sentiment_label'] = df_title2['sentiment'].apply(get_sentiment_label)"
   ],
   "metadata": {
    "collapsed": false,
    "pycharm": {
     "name": "#%%\n"
    }
   }
  },
  {
   "cell_type": "markdown",
   "source": [
    "**Задача 3.**\n",
    "Выполните разметку вручную отдельного подмножества выбранного датасета с помощью выбранного вами инструмента разметки.\n",
    "\n",
    "Сохраним датафрем в CSV файл."
   ],
   "metadata": {
    "collapsed": false,
    "pycharm": {
     "name": "#%% md\n"
    }
   }
  },
  {
   "cell_type": "code",
   "execution_count": 15,
   "outputs": [],
   "source": [
    "df_title1.to_csv('./manual_marking.csv', index=False)"
   ],
   "metadata": {
    "collapsed": false,
    "pycharm": {
     "name": "#%%\n"
    }
   }
  },
  {
   "cell_type": "markdown",
   "source": [
    "Запускаем локально label-studio и делаем разметку. \\\n",
    "Экспортируем размеченный вручную CSV файл и загружаем его в датафрейм."
   ],
   "metadata": {
    "collapsed": false,
    "pycharm": {
     "name": "#%% md\n"
    }
   }
  },
  {
   "cell_type": "code",
   "execution_count": 16,
   "outputs": [
    {
     "data": {
      "text/plain": "   annotation_id  annotator                   created_at  id  lead_time  \\\n0              1          1  2024-05-29T15:08:25.109948Z   1     18.735   \n1              2          1  2024-05-29T15:09:05.374325Z   2     13.131   \n2              3          1  2024-05-29T15:09:26.498394Z   3      6.770   \n3              4          1  2024-05-29T15:09:59.909605Z   4      7.341   \n4              5          1  2024-05-29T15:10:25.863949Z   5      4.486   \n\n  sentiment                                              title  \\\n0  positive  Ястржембский называет имя арестованного за взр...   \n1   neutral           Чемпионат Италии: \"Ювентус\" ушел в отрыв   \n2  negative  Из Чернокозово отпущены первые амнистированные...   \n3   neutral  Парламент Украины затребовал у Конгресса США п...   \n4  positive            Пилот Формулы-1 уцелел в авиакатастрофе   \n\n                    updated_at  \n0  2024-05-29T15:08:33.034497Z  \n1  2024-05-29T15:17:06.400265Z  \n2  2024-05-29T15:09:26.498394Z  \n3  2024-05-29T15:09:59.909605Z  \n4  2024-05-29T15:10:25.863949Z  ",
      "text/html": "<div>\n<style scoped>\n    .dataframe tbody tr th:only-of-type {\n        vertical-align: middle;\n    }\n\n    .dataframe tbody tr th {\n        vertical-align: top;\n    }\n\n    .dataframe thead th {\n        text-align: right;\n    }\n</style>\n<table border=\"1\" class=\"dataframe\">\n  <thead>\n    <tr style=\"text-align: right;\">\n      <th></th>\n      <th>annotation_id</th>\n      <th>annotator</th>\n      <th>created_at</th>\n      <th>id</th>\n      <th>lead_time</th>\n      <th>sentiment</th>\n      <th>title</th>\n      <th>updated_at</th>\n    </tr>\n  </thead>\n  <tbody>\n    <tr>\n      <th>0</th>\n      <td>1</td>\n      <td>1</td>\n      <td>2024-05-29T15:08:25.109948Z</td>\n      <td>1</td>\n      <td>18.735</td>\n      <td>positive</td>\n      <td>Ястржембский называет имя арестованного за взр...</td>\n      <td>2024-05-29T15:08:33.034497Z</td>\n    </tr>\n    <tr>\n      <th>1</th>\n      <td>2</td>\n      <td>1</td>\n      <td>2024-05-29T15:09:05.374325Z</td>\n      <td>2</td>\n      <td>13.131</td>\n      <td>neutral</td>\n      <td>Чемпионат Италии: \"Ювентус\" ушел в отрыв</td>\n      <td>2024-05-29T15:17:06.400265Z</td>\n    </tr>\n    <tr>\n      <th>2</th>\n      <td>3</td>\n      <td>1</td>\n      <td>2024-05-29T15:09:26.498394Z</td>\n      <td>3</td>\n      <td>6.770</td>\n      <td>negative</td>\n      <td>Из Чернокозово отпущены первые амнистированные...</td>\n      <td>2024-05-29T15:09:26.498394Z</td>\n    </tr>\n    <tr>\n      <th>3</th>\n      <td>4</td>\n      <td>1</td>\n      <td>2024-05-29T15:09:59.909605Z</td>\n      <td>4</td>\n      <td>7.341</td>\n      <td>neutral</td>\n      <td>Парламент Украины затребовал у Конгресса США п...</td>\n      <td>2024-05-29T15:09:59.909605Z</td>\n    </tr>\n    <tr>\n      <th>4</th>\n      <td>5</td>\n      <td>1</td>\n      <td>2024-05-29T15:10:25.863949Z</td>\n      <td>5</td>\n      <td>4.486</td>\n      <td>positive</td>\n      <td>Пилот Формулы-1 уцелел в авиакатастрофе</td>\n      <td>2024-05-29T15:10:25.863949Z</td>\n    </tr>\n  </tbody>\n</table>\n</div>"
     },
     "execution_count": 16,
     "metadata": {},
     "output_type": "execute_result"
    }
   ],
   "source": [
    "df_title1 = pd.read_csv('./project-1-at-2024-05-29-15-11-3822a918.csv', engine='python', on_bad_lines='skip')\n",
    "df_title1.head()"
   ],
   "metadata": {
    "collapsed": false,
    "pycharm": {
     "name": "#%%\n"
    }
   }
  },
  {
   "cell_type": "code",
   "execution_count": 17,
   "outputs": [
    {
     "data": {
      "text/plain": "                                               title sentiment_label\n0  Ястржембский называет имя арестованного за взр...        positive\n1           Чемпионат Италии: \"Ювентус\" ушел в отрыв         neutral\n2  Из Чернокозово отпущены первые амнистированные...        negative\n3  Парламент Украины затребовал у Конгресса США п...         neutral\n4            Пилот Формулы-1 уцелел в авиакатастрофе        positive",
      "text/html": "<div>\n<style scoped>\n    .dataframe tbody tr th:only-of-type {\n        vertical-align: middle;\n    }\n\n    .dataframe tbody tr th {\n        vertical-align: top;\n    }\n\n    .dataframe thead th {\n        text-align: right;\n    }\n</style>\n<table border=\"1\" class=\"dataframe\">\n  <thead>\n    <tr style=\"text-align: right;\">\n      <th></th>\n      <th>title</th>\n      <th>sentiment_label</th>\n    </tr>\n  </thead>\n  <tbody>\n    <tr>\n      <th>0</th>\n      <td>Ястржембский называет имя арестованного за взр...</td>\n      <td>positive</td>\n    </tr>\n    <tr>\n      <th>1</th>\n      <td>Чемпионат Италии: \"Ювентус\" ушел в отрыв</td>\n      <td>neutral</td>\n    </tr>\n    <tr>\n      <th>2</th>\n      <td>Из Чернокозово отпущены первые амнистированные...</td>\n      <td>negative</td>\n    </tr>\n    <tr>\n      <th>3</th>\n      <td>Парламент Украины затребовал у Конгресса США п...</td>\n      <td>neutral</td>\n    </tr>\n    <tr>\n      <th>4</th>\n      <td>Пилот Формулы-1 уцелел в авиакатастрофе</td>\n      <td>positive</td>\n    </tr>\n  </tbody>\n</table>\n</div>"
     },
     "execution_count": 17,
     "metadata": {},
     "output_type": "execute_result"
    }
   ],
   "source": [
    "df_title1 = df_title1[['title', 'sentiment']].rename(columns={'sentiment': 'sentiment_label'})\n",
    "df_title1.head()"
   ],
   "metadata": {
    "collapsed": false,
    "pycharm": {
     "name": "#%%\n"
    }
   }
  },
  {
   "cell_type": "markdown",
   "source": [
    "**Задача 4.**\n",
    "Объедините данные, размеченные вручную, с данными, размеченными на основе правил. Объедините два подмножества размеченных данных в один набор данных, сохранив при этом соответствующую структуру и целостность."
   ],
   "metadata": {
    "collapsed": false,
    "pycharm": {
     "name": "#%% md\n"
    }
   },
   "outputs": []
  },
  {
   "cell_type": "code",
   "execution_count": 18,
   "outputs": [
    {
     "data": {
      "text/plain": "                                               title sentiment_label\n0  Ястржембский называет имя арестованного за взр...        positive\n1           Чемпионат Италии: \"Ювентус\" ушел в отрыв         neutral\n2  Из Чернокозово отпущены первые амнистированные...        negative\n3  Парламент Украины затребовал у Конгресса США п...         neutral\n4            Пилот Формулы-1 уцелел в авиакатастрофе        positive\n5  Чтобы не платить налог, интернет-изданиям нужн...         neutral\n6              Кубинского дипломата выставили из США         neutral\n7  Правительство РФ: третье тысячеление наступит ...         neutral\n8             Взрывчатку в Сибирь отправили по почте         neutral\n9  В Дагестане совершено покушение на генерала по...        negative",
      "text/html": "<div>\n<style scoped>\n    .dataframe tbody tr th:only-of-type {\n        vertical-align: middle;\n    }\n\n    .dataframe tbody tr th {\n        vertical-align: top;\n    }\n\n    .dataframe thead th {\n        text-align: right;\n    }\n</style>\n<table border=\"1\" class=\"dataframe\">\n  <thead>\n    <tr style=\"text-align: right;\">\n      <th></th>\n      <th>title</th>\n      <th>sentiment_label</th>\n    </tr>\n  </thead>\n  <tbody>\n    <tr>\n      <th>0</th>\n      <td>Ястржембский называет имя арестованного за взр...</td>\n      <td>positive</td>\n    </tr>\n    <tr>\n      <th>1</th>\n      <td>Чемпионат Италии: \"Ювентус\" ушел в отрыв</td>\n      <td>neutral</td>\n    </tr>\n    <tr>\n      <th>2</th>\n      <td>Из Чернокозово отпущены первые амнистированные...</td>\n      <td>negative</td>\n    </tr>\n    <tr>\n      <th>3</th>\n      <td>Парламент Украины затребовал у Конгресса США п...</td>\n      <td>neutral</td>\n    </tr>\n    <tr>\n      <th>4</th>\n      <td>Пилот Формулы-1 уцелел в авиакатастрофе</td>\n      <td>positive</td>\n    </tr>\n    <tr>\n      <th>5</th>\n      <td>Чтобы не платить налог, интернет-изданиям нужн...</td>\n      <td>neutral</td>\n    </tr>\n    <tr>\n      <th>6</th>\n      <td>Кубинского дипломата выставили из США</td>\n      <td>neutral</td>\n    </tr>\n    <tr>\n      <th>7</th>\n      <td>Правительство РФ: третье тысячеление наступит ...</td>\n      <td>neutral</td>\n    </tr>\n    <tr>\n      <th>8</th>\n      <td>Взрывчатку в Сибирь отправили по почте</td>\n      <td>neutral</td>\n    </tr>\n    <tr>\n      <th>9</th>\n      <td>В Дагестане совершено покушение на генерала по...</td>\n      <td>negative</td>\n    </tr>\n  </tbody>\n</table>\n</div>"
     },
     "execution_count": 18,
     "metadata": {},
     "output_type": "execute_result"
    }
   ],
   "source": [
    "df_title = pd.concat([df_title1, df_title2], axis=0).reset_index(drop=True)\n",
    "df_title.drop(columns=['sentiment'], inplace=True)\n",
    "df_title.head(10)"
   ],
   "metadata": {
    "collapsed": false,
    "pycharm": {
     "name": "#%%\n"
    }
   }
  },
  {
   "cell_type": "code",
   "execution_count": 19,
   "outputs": [
    {
     "data": {
      "text/plain": "sentiment_label\nneutral     7463\npositive    1351\nnegative    1186\nName: count, dtype: int64"
     },
     "execution_count": 19,
     "metadata": {},
     "output_type": "execute_result"
    }
   ],
   "source": [
    "df_title['sentiment_label'].value_counts()"
   ],
   "metadata": {
    "collapsed": false,
    "pycharm": {
     "name": "#%%\n"
    }
   }
  },
  {
   "cell_type": "markdown",
   "source": [
    "**Задача 5.**\n",
    "Обучите модель машинного обучения, используя объединенный набор размеченных данных. Разделите датасет на обучающий и тестовый наборы и используйте обучающий набор для обучения модели."
   ],
   "metadata": {
    "collapsed": false,
    "pycharm": {
     "name": "#%% md\n"
    }
   },
   "outputs": []
  },
  {
   "cell_type": "code",
   "execution_count": 20,
   "outputs": [
    {
     "data": {
      "text/plain": "                                               title  sentiment_label\n0  Ястржембский называет имя арестованного за взр...                2\n1           Чемпионат Италии: \"Ювентус\" ушел в отрыв                1\n2  Из Чернокозово отпущены первые амнистированные...                0\n3  Парламент Украины затребовал у Конгресса США п...                1\n4            Пилот Формулы-1 уцелел в авиакатастрофе                2\n5  Чтобы не платить налог, интернет-изданиям нужн...                1\n6              Кубинского дипломата выставили из США                1\n7  Правительство РФ: третье тысячеление наступит ...                1\n8             Взрывчатку в Сибирь отправили по почте                1\n9  В Дагестане совершено покушение на генерала по...                0",
      "text/html": "<div>\n<style scoped>\n    .dataframe tbody tr th:only-of-type {\n        vertical-align: middle;\n    }\n\n    .dataframe tbody tr th {\n        vertical-align: top;\n    }\n\n    .dataframe thead th {\n        text-align: right;\n    }\n</style>\n<table border=\"1\" class=\"dataframe\">\n  <thead>\n    <tr style=\"text-align: right;\">\n      <th></th>\n      <th>title</th>\n      <th>sentiment_label</th>\n    </tr>\n  </thead>\n  <tbody>\n    <tr>\n      <th>0</th>\n      <td>Ястржембский называет имя арестованного за взр...</td>\n      <td>2</td>\n    </tr>\n    <tr>\n      <th>1</th>\n      <td>Чемпионат Италии: \"Ювентус\" ушел в отрыв</td>\n      <td>1</td>\n    </tr>\n    <tr>\n      <th>2</th>\n      <td>Из Чернокозово отпущены первые амнистированные...</td>\n      <td>0</td>\n    </tr>\n    <tr>\n      <th>3</th>\n      <td>Парламент Украины затребовал у Конгресса США п...</td>\n      <td>1</td>\n    </tr>\n    <tr>\n      <th>4</th>\n      <td>Пилот Формулы-1 уцелел в авиакатастрофе</td>\n      <td>2</td>\n    </tr>\n    <tr>\n      <th>5</th>\n      <td>Чтобы не платить налог, интернет-изданиям нужн...</td>\n      <td>1</td>\n    </tr>\n    <tr>\n      <th>6</th>\n      <td>Кубинского дипломата выставили из США</td>\n      <td>1</td>\n    </tr>\n    <tr>\n      <th>7</th>\n      <td>Правительство РФ: третье тысячеление наступит ...</td>\n      <td>1</td>\n    </tr>\n    <tr>\n      <th>8</th>\n      <td>Взрывчатку в Сибирь отправили по почте</td>\n      <td>1</td>\n    </tr>\n    <tr>\n      <th>9</th>\n      <td>В Дагестане совершено покушение на генерала по...</td>\n      <td>0</td>\n    </tr>\n  </tbody>\n</table>\n</div>"
     },
     "execution_count": 20,
     "metadata": {},
     "output_type": "execute_result"
    }
   ],
   "source": [
    "le = LabelEncoder()\n",
    "df_title['sentiment_label'] = le.fit_transform(df_title['sentiment_label'].astype(str))\n",
    "df_title.head(10)"
   ],
   "metadata": {
    "collapsed": false,
    "pycharm": {
     "name": "#%%\n"
    }
   }
  },
  {
   "cell_type": "code",
   "execution_count": 21,
   "outputs": [],
   "source": [
    "# перемешаем данные\n",
    "df_title = shuffle(df_title)"
   ],
   "metadata": {
    "collapsed": false,
    "pycharm": {
     "name": "#%%\n"
    }
   }
  },
  {
   "cell_type": "code",
   "execution_count": 22,
   "outputs": [],
   "source": [
    "# разделим датасет на размеченную и неразмеченную выборки\n",
    "labeled_title, unlabeled_title = train_test_split(df_title, train_size=0.2, random_state=42)"
   ],
   "metadata": {
    "collapsed": false,
    "pycharm": {
     "name": "#%%\n"
    }
   }
  },
  {
   "cell_type": "code",
   "execution_count": 23,
   "outputs": [],
   "source": [
    "# функция для обучения модели логистической регрессии на размеченных данных\n",
    "def train_model(labeled_title):\n",
    "    # Векторизация текстовых данных с помощью TF-IDF\n",
    "    vectorizer = TfidfVectorizer()\n",
    "    X = vectorizer.fit_transform(labeled_title['title'])\n",
    "    y = labeled_title['sentiment_label']\n",
    "\n",
    "    # Обучение модели логистической регрессии на размеченных данных\n",
    "    model = LogisticRegression()\n",
    "    model.fit(X, y)\n",
    "\n",
    "    return model, vectorizer"
   ],
   "metadata": {
    "collapsed": false,
    "pycharm": {
     "name": "#%%\n"
    }
   }
  },
  {
   "cell_type": "code",
   "execution_count": 24,
   "outputs": [],
   "source": [
    "# обучение начальной модели на небольшом наборе\n",
    "model, vectorizer = train_model(labeled_title)"
   ],
   "metadata": {
    "collapsed": false,
    "pycharm": {
     "name": "#%%\n"
    }
   }
  },
  {
   "cell_type": "code",
   "execution_count": 25,
   "outputs": [],
   "source": [
    "# использование исходной модели для прогнозирования настроения неразмеченных данных\n",
    "X_unlabeled = vectorizer.transform(unlabeled_title['title'])\n",
    "y_unlabeled_predicted = model.predict(X_unlabeled)"
   ],
   "metadata": {
    "collapsed": false,
    "pycharm": {
     "name": "#%%\n"
    }
   }
  },
  {
   "cell_type": "code",
   "execution_count": 26,
   "outputs": [],
   "source": [
    "# вычисление неопределенности или энтропии предсказаний\n",
    "y_unlabeled_proba = model.predict_proba(X_unlabeled)\n",
    "uncertainty = -(y_unlabeled_proba * np.log2(y_unlabeled_proba)).sum(axis=1)"
   ],
   "metadata": {
    "collapsed": false,
    "pycharm": {
     "name": "#%%\n"
    }
   }
  },
  {
   "cell_type": "code",
   "execution_count": 27,
   "outputs": [],
   "source": [
    "# выбор 100 наиболее неопределенных точек данных для маркировки человеком\n",
    "labeled_title_new = unlabeled_title.iloc[uncertainty.argsort()[:100]]\n",
    "unlabeled_title_new = unlabeled_title.iloc[uncertainty.argsort()[100:]]"
   ],
   "metadata": {
    "collapsed": false,
    "pycharm": {
     "name": "#%%\n"
    }
   }
  },
  {
   "cell_type": "code",
   "execution_count": 28,
   "outputs": [
    {
     "data": {
      "text/plain": "(2100, 2)"
     },
     "execution_count": 28,
     "metadata": {},
     "output_type": "execute_result"
    }
   ],
   "source": [
    "# разметка новых точек данных и добавление их к размеченному множеству\n",
    "labeled_title = pd.concat([labeled_title, labeled_title_new])\n",
    "labeled_title.shape"
   ],
   "metadata": {
    "collapsed": false,
    "pycharm": {
     "name": "#%%\n"
    }
   }
  },
  {
   "cell_type": "code",
   "execution_count": 29,
   "outputs": [],
   "source": [
    "# переобучение модели на расширенном маркированном множестве\n",
    "model, vectorizer = train_model(labeled_title)"
   ],
   "metadata": {
    "collapsed": false,
    "pycharm": {
     "name": "#%%\n"
    }
   }
  },
  {
   "cell_type": "markdown",
   "source": [
    "**Задача 6.**\n",
    "Оценить эффективность обученной модели на тестовом датасете. Используйте подходящие метрики оценки. Интерпретируйте результаты и проанализируйте эффективность модели в решении задачи разметки."
   ],
   "metadata": {
    "collapsed": false,
    "pycharm": {
     "name": "#%% md\n"
    }
   }
  },
  {
   "cell_type": "code",
   "execution_count": 30,
   "id": "0da817e1",
   "metadata": {
    "pycharm": {
     "name": "#%%\n"
    }
   },
   "outputs": [],
   "source": [
    "### Загружаем тестовый датасет\n",
    "title_test = pd.read_csv('./test.csv', engine='python', on_bad_lines='skip')"
   ]
  },
  {
   "cell_type": "code",
   "execution_count": 31,
   "id": "28ef1582",
   "metadata": {
    "pycharm": {
     "name": "#%%\n"
    }
   },
   "outputs": [
    {
     "data": {
      "text/plain": "                                               title  sentiment_label\n0  Вагоны московского метро будут складываться га...                1\n1  В Чечню пытались проникнуть наемники из Пакистана                1\n2   Таллинские заключенные предпочитают голод духоте                0\n3  Адвокатам \"Моста\" не удалось дать отвод следов...                1\n4            В поезде Донецк-Москва нашли взрывчатку                1",
      "text/html": "<div>\n<style scoped>\n    .dataframe tbody tr th:only-of-type {\n        vertical-align: middle;\n    }\n\n    .dataframe tbody tr th {\n        vertical-align: top;\n    }\n\n    .dataframe thead th {\n        text-align: right;\n    }\n</style>\n<table border=\"1\" class=\"dataframe\">\n  <thead>\n    <tr style=\"text-align: right;\">\n      <th></th>\n      <th>title</th>\n      <th>sentiment_label</th>\n    </tr>\n  </thead>\n  <tbody>\n    <tr>\n      <th>0</th>\n      <td>Вагоны московского метро будут складываться га...</td>\n      <td>1</td>\n    </tr>\n    <tr>\n      <th>1</th>\n      <td>В Чечню пытались проникнуть наемники из Пакистана</td>\n      <td>1</td>\n    </tr>\n    <tr>\n      <th>2</th>\n      <td>Таллинские заключенные предпочитают голод духоте</td>\n      <td>0</td>\n    </tr>\n    <tr>\n      <th>3</th>\n      <td>Адвокатам \"Моста\" не удалось дать отвод следов...</td>\n      <td>1</td>\n    </tr>\n    <tr>\n      <th>4</th>\n      <td>В поезде Донецк-Москва нашли взрывчатку</td>\n      <td>1</td>\n    </tr>\n  </tbody>\n</table>\n</div>"
     },
     "execution_count": 31,
     "metadata": {},
     "output_type": "execute_result"
    }
   ],
   "source": [
    "title_test['sentiment_label'] = le.fit_transform(title_test['sentiment_label'].astype(str))\n",
    "title_test.head()"
   ]
  },
  {
   "cell_type": "code",
   "execution_count": 32,
   "outputs": [],
   "source": [
    "X_test = vectorizer.transform(title_test['title'])\n",
    "y_test_predicted = model.predict(X_test)"
   ],
   "metadata": {
    "collapsed": false,
    "pycharm": {
     "name": "#%%\n"
    }
   }
  },
  {
   "cell_type": "markdown",
   "source": [
    "В качестве критерия качества модели выберем метрику F1-measure. Она отражает точностью (Precision) и полноту (Recall) и рассчитывается как их среднее гармоническое.\n",
    "\n",
    "$Precision = \\cfrac{TP}{TP + FP}$\n",
    "<br><br>\n",
    "\n",
    "$Recall = \\cfrac{TP}{TP + FN}$\n",
    "<br><br>\n",
    "\n",
    "$F_1 = \\cfrac{2}{\\cfrac{1}{Recall} + \\cfrac{1}{Precision}} = 2 \\cfrac{Recall \\cdot Precision}{Recall + Precision} = \\cfrac{TP}{TP + \\cfrac{FP + FN}{2}}$"
   ],
   "metadata": {
    "collapsed": false,
    "pycharm": {
     "name": "#%% md\n"
    }
   }
  },
  {
   "cell_type": "code",
   "execution_count": 33,
   "outputs": [
    {
     "data": {
      "text/plain": "0.84068"
     },
     "execution_count": 33,
     "metadata": {},
     "output_type": "execute_result"
    }
   ],
   "source": [
    "f1 = f1_score(title_test['sentiment_label'], y_test_predicted, average='micro')\n",
    "f1"
   ],
   "metadata": {
    "collapsed": false,
    "pycharm": {
     "name": "#%%\n"
    }
   }
  },
  {
   "cell_type": "markdown",
   "source": [
    "Эффективность обученной модели составила 84%.\n",
    "\n",
    "Разметка на основе правил существенно экономит время и увеличивает производительность, но не всегда положительно влияет на качество набора данных."
   ],
   "metadata": {
    "collapsed": false,
    "pycharm": {
     "name": "#%% md\n"
    }
   }
  },
  {
   "cell_type": "code",
   "execution_count": 33,
   "outputs": [],
   "source": [],
   "metadata": {
    "collapsed": false,
    "pycharm": {
     "name": "#%%\n"
    }
   }
  }
 ],
 "metadata": {
  "kernelspec": {
   "display_name": "Python 3 (ipykernel)",
   "language": "python",
   "name": "python3"
  },
  "language_info": {
   "codemirror_mode": {
    "name": "ipython",
    "version": 3
   },
   "file_extension": ".py",
   "mimetype": "text/x-python",
   "name": "python",
   "nbconvert_exporter": "python",
   "pygments_lexer": "ipython3",
   "version": "3.9.13"
  }
 },
 "nbformat": 4,
 "nbformat_minor": 5
}